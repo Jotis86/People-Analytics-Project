{
 "cells": [
  {
   "cell_type": "code",
   "execution_count": 1,
   "metadata": {},
   "outputs": [],
   "source": [
    "# Import librearies for data visualization\n",
    "import pandas as pd\n",
    "import matplotlib.pyplot as plt\n",
    "import seaborn as sns\n",
    "import warnings \n",
    "warnings.filterwarnings('ignore')"
   ]
  },
  {
   "cell_type": "code",
   "execution_count": 2,
   "metadata": {},
   "outputs": [],
   "source": [
    "# Load the data\n",
    "data = pd.read_excel('data_cleaned.xlsx')"
   ]
  },
  {
   "cell_type": "code",
   "execution_count": 3,
   "metadata": {},
   "outputs": [
    {
     "name": "stdout",
     "output_type": "stream",
     "text": [
      "<class 'pandas.core.frame.DataFrame'>\n",
      "RangeIndex: 311 entries, 0 to 310\n",
      "Data columns (total 32 columns):\n",
      " #   Column                         Non-Null Count  Dtype         \n",
      "---  ------                         --------------  -----         \n",
      " 0   ID Empleado                    311 non-null    int64         \n",
      " 1   Año de Nacimiento              311 non-null    datetime64[ns]\n",
      " 2   Edad                           311 non-null    int64         \n",
      " 3   Sexo                           311 non-null    object        \n",
      " 4   Sexo Num                       311 non-null    int64         \n",
      " 5   Fecha Inicio de Contrato       311 non-null    datetime64[ns]\n",
      " 6   Fecha Hoy                      311 non-null    datetime64[ns]\n",
      " 7   Antigüedad Meses               311 non-null    float64       \n",
      " 8   Antigüedad Años                311 non-null    float64       \n",
      " 9   Formación Oficial Reglada      311 non-null    object        \n",
      " 10  Formación Oficial Num          311 non-null    int64         \n",
      " 11  ESTADO CIVIL                   311 non-null    object        \n",
      " 12  HIJOS                          311 non-null    float64       \n",
      " 13  % MINUSVALÍA                   311 non-null    object        \n",
      " 14  Categoría laboral              311 non-null    object        \n",
      " 15  Cat Lab num                    311 non-null    int64         \n",
      " 16  Horas Jornada                  311 non-null    float64       \n",
      " 17  FTE                            311 non-null    float64       \n",
      " 18  Días de Trabajo Perdido (Abs)  311 non-null    int64         \n",
      " 19  Departamento                   311 non-null    object        \n",
      " 20  Departamento Num               311 non-null    int64         \n",
      " 21  Rotación Externa               311 non-null    int64         \n",
      " 22  Rotación Interna               311 non-null    int64         \n",
      " 23  Salario Anual Inicial 2020     311 non-null    int64         \n",
      " 24  Salario Anual Actual 2020      311 non-null    int64         \n",
      " 25  Diferencia Salario             311 non-null    int64         \n",
      " 26  Experiencia previa (meses)     311 non-null    int64         \n",
      " 27  Horas de formación recibidas   311 non-null    int64         \n",
      " 28  Neglicencias/Sanciones         311 non-null    int64         \n",
      " 29  Nuevas contrataciones 2020     311 non-null    int64         \n",
      " 30  NPS                            311 non-null    int64         \n",
      " 31  Evaluación Desempeño           311 non-null    int64         \n",
      "dtypes: datetime64[ns](3), float64(5), int64(18), object(6)\n",
      "memory usage: 77.9+ KB\n"
     ]
    }
   ],
   "source": [
    "# Show the information of the data\n",
    "data.info()"
   ]
  },
  {
   "cell_type": "code",
   "execution_count": null,
   "metadata": {},
   "outputs": [],
   "source": []
  }
 ],
 "metadata": {
  "kernelspec": {
   "display_name": "base",
   "language": "python",
   "name": "python3"
  },
  "language_info": {
   "codemirror_mode": {
    "name": "ipython",
    "version": 3
   },
   "file_extension": ".py",
   "mimetype": "text/x-python",
   "name": "python",
   "nbconvert_exporter": "python",
   "pygments_lexer": "ipython3",
   "version": "3.11.7"
  }
 },
 "nbformat": 4,
 "nbformat_minor": 2
}
